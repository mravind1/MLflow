{
 "cells": [
  {
   "cell_type": "code",
   "execution_count": 8,
   "id": "d0ab3fd0-918c-47f6-9e22-2269290ac6f9",
   "metadata": {},
   "outputs": [
    {
     "name": "stdout",
     "output_type": "stream",
     "text": [
      "Logistic Regression:\n",
      "              precision    recall  f1-score   support\n",
      "\n",
      "           0       0.97      0.99      0.98        75\n",
      "           1       0.97      0.95      0.96        39\n",
      "\n",
      "    accuracy                           0.97       114\n",
      "   macro avg       0.97      0.97      0.97       114\n",
      "weighted avg       0.97      0.97      0.97       114\n",
      "\n"
     ]
    }
   ],
   "source": [
    "import pandas as pd\n",
    "\n",
    "# Load the dataset\n",
    "df = pd.read_csv(\"/Users/manjusharavindranath/Downloads/BreastCancer_data.csv\")\n",
    "df.head()\n",
    "\n",
    "\n",
    "#Dropping columns that are not needed\n",
    "df = df.drop(columns=['id', 'Unnamed: 32'])\n",
    "\n",
    "#Map the target to binary values: 'M' to 1 (malignant), 'B' to 0 (benign)\n",
    "df['diagnosis'] = df['diagnosis'].map({'M': 1, 'B': 0})\n",
    "\n",
    "# Separate features and target datasets\n",
    "X = df.drop(columns=['diagnosis'])\n",
    "y = df['diagnosis']\n",
    "\n",
    "from sklearn.model_selection import train_test_split\n",
    "\n",
    "X_train, X_test, y_train, y_test = train_test_split(X, y, test_size=0.2, random_state=102)\n",
    "\n",
    "\n",
    "from sklearn.preprocessing import StandardScaler\n",
    "\n",
    "scaler = StandardScaler()\n",
    "X_train = scaler.fit_transform(X_train)\n",
    "X_test = scaler.transform(X_test)\n",
    "\n",
    "\n",
    "# Define the model hyperparameters\n",
    "params = {\n",
    "    \"solver\": \"lbfgs\",\n",
    "    \"max_iter\": 10000,\n",
    "    \"multi_class\": \"auto\",\n",
    "    \"random_state\": 8888,\n",
    "}\n",
    " \n",
    "\n",
    "from sklearn.linear_model import LogisticRegression\n",
    "from sklearn.metrics import classification_report\n",
    "\n",
    "#train the model\n",
    "model = LogisticRegression(**params)\n",
    "model.fit(X_train, y_train)\n",
    "\n",
    "#Predict and evaluate the model\n",
    "y_pred = model.predict(X_test)\n",
    "print(\"Logistic Regression:\")\n",
    "print(classification_report(y_test, y_pred))\n",
    "\n",
    "class_report = classification_report(y_test, y_pred,output_dict= True)\n",
    "\n",
    "#create a metrics which we want to log\n",
    "\n",
    "\n"
   ]
  },
  {
   "cell_type": "code",
   "execution_count": 9,
   "id": "01c23bb1-64a0-4b3c-87da-62a7ba5735c5",
   "metadata": {},
   "outputs": [],
   "source": [
    "import mlflow\n",
    "\n",
    "mlflow.set_experiment(\"cancer_data\")\n",
    "mlflow.set_tracking_uri(uri=\"http://127.0.0.1:5000/\")\n",
    "\n",
    "with mlflow.start_run():\n",
    "    mlflow.log_params(params)\n",
    "    mlflow.log_metrics({\n",
    "        'accuracy': class_report['accuracy'],\n",
    "        'recall_class_0': class_report['0']['recall'],\n",
    "        'recall_class_1': class_report['1']['recall'],\n",
    "        'f1_score': class_report['macro avg']['f1-score']\n",
    "        })\n",
    "    mlflow.sklearn.log_model(model, \"Logistic Regression\")"
   ]
  },
  {
   "cell_type": "code",
   "execution_count": 10,
   "id": "141da5e2-c4f5-48eb-9472-abf0552f2f59",
   "metadata": {},
   "outputs": [
    {
     "name": "stdout",
     "output_type": "stream",
     "text": [
      "Decision Tree Classifier:\n",
      "              precision    recall  f1-score   support\n",
      "\n",
      "           0       0.96      0.97      0.97        75\n",
      "           1       0.95      0.92      0.94        39\n",
      "\n",
      "    accuracy                           0.96       114\n",
      "   macro avg       0.95      0.95      0.95       114\n",
      "weighted avg       0.96      0.96      0.96       114\n",
      "\n"
     ]
    }
   ],
   "source": [
    "from sklearn.tree import DecisionTreeClassifier\n",
    "\n",
    "# Initialize and train the model\n",
    "model = DecisionTreeClassifier()\n",
    "model.fit(X_train, y_train)\n",
    "\n",
    "# Predict and evaluate\n",
    "y_pred = model.predict(X_test)\n",
    "print(\"Decision Tree Classifier:\")\n",
    "print(classification_report(y_test, y_pred))"
   ]
  },
  {
   "cell_type": "code",
   "execution_count": 11,
   "id": "ff0c8759-d101-4ff6-bad6-4ba6ab54191d",
   "metadata": {},
   "outputs": [],
   "source": [
    "class_report = classification_report(y_test, y_pred,output_dict= True)\n"
   ]
  },
  {
   "cell_type": "code",
   "execution_count": 12,
   "id": "43a0edc6-5106-488b-8c17-d66a9218da6d",
   "metadata": {},
   "outputs": [
    {
     "name": "stderr",
     "output_type": "stream",
     "text": [
      "2024/08/17 10:07:42 INFO mlflow.tracking.fluent: Experiment with name 'cancer_data_decisiontree' does not exist. Creating a new experiment.\n",
      "2024/08/17 10:07:45 WARNING mlflow.utils.requirements_utils: Detected one or more mismatches between the model's dependencies and the current Python environment:\n",
      " - mlflow (current: 2.15.1, required: mlflow==2.12.2)\n",
      "To fix the mismatches, call `mlflow.pyfunc.get_model_dependencies(model_uri)` to fetch the model's environment and install dependencies using the resulting environment file.\n"
     ]
    }
   ],
   "source": [
    "mlflow.set_experiment(\"cancer_data_decisiontree\")\n",
    "with mlflow.start_run():\n",
    "    mlflow.log_params(params)\n",
    "    mlflow.log_metrics({\n",
    "        'accuracy': class_report['accuracy'],\n",
    "        'recall_class_0': class_report['0']['recall'],\n",
    "        'recall_class_1': class_report['1']['recall'],\n",
    "        'f1_score': class_report['macro avg']['f1-score']\n",
    "        })\n",
    "    mlflow.sklearn.log_model(model, \"Decision Tree\")"
   ]
  },
  {
   "cell_type": "code",
   "execution_count": 13,
   "id": "06b0398f-20c5-4471-80fb-1b1c766631ac",
   "metadata": {},
   "outputs": [
    {
     "name": "stdout",
     "output_type": "stream",
     "text": [
      "Support Vector Machine (SVM):\n",
      "              precision    recall  f1-score   support\n",
      "\n",
      "           0       0.97      0.97      0.97        75\n",
      "           1       0.95      0.95      0.95        39\n",
      "\n",
      "    accuracy                           0.96       114\n",
      "   macro avg       0.96      0.96      0.96       114\n",
      "weighted avg       0.96      0.96      0.96       114\n",
      "\n"
     ]
    }
   ],
   "source": [
    "from sklearn.svm import SVC\n",
    "\n",
    "model = SVC()\n",
    "\n",
    "model.fit(X_train, y_train)\n",
    "\n",
    "y_pred = model.predict(X_test)\n",
    "print(\"Support Vector Machine (SVM):\")\n",
    "print(classification_report(y_test, y_pred))"
   ]
  },
  {
   "cell_type": "code",
   "execution_count": 15,
   "id": "2245c77a-4bd2-49dd-a97f-73cac30364b0",
   "metadata": {},
   "outputs": [],
   "source": [
    "class_report = classification_report(y_test, y_pred,output_dict= True)"
   ]
  },
  {
   "cell_type": "code",
   "execution_count": 16,
   "id": "92af1a45-8acc-4be1-9940-86a477abed81",
   "metadata": {},
   "outputs": [
    {
     "name": "stderr",
     "output_type": "stream",
     "text": [
      "2024/08/17 10:11:39 INFO mlflow.tracking.fluent: Experiment with name 'cancer_data_SVM' does not exist. Creating a new experiment.\n",
      "2024/08/17 10:11:42 WARNING mlflow.utils.requirements_utils: Detected one or more mismatches between the model's dependencies and the current Python environment:\n",
      " - mlflow (current: 2.15.1, required: mlflow==2.12.2)\n",
      "To fix the mismatches, call `mlflow.pyfunc.get_model_dependencies(model_uri)` to fetch the model's environment and install dependencies using the resulting environment file.\n"
     ]
    }
   ],
   "source": [
    "mlflow.set_experiment(\"cancer_data_SVM\")\n",
    "with mlflow.start_run():\n",
    "    mlflow.log_params(params)\n",
    "    mlflow.log_metrics({\n",
    "        'accuracy': class_report['accuracy'],\n",
    "        'recall_class_0': class_report['0']['recall'],\n",
    "        'recall_class_1': class_report['1']['recall'],\n",
    "        'f1_score': class_report['macro avg']['f1-score']\n",
    "        })\n",
    "    mlflow.sklearn.log_model(model, \"SVM\")"
   ]
  },
  {
   "cell_type": "code",
   "execution_count": null,
   "id": "4f6a6a95-8688-4188-8f4c-8d0c62102fef",
   "metadata": {},
   "outputs": [],
   "source": []
  }
 ],
 "metadata": {
  "kernelspec": {
   "display_name": "Python 3 (ipykernel)",
   "language": "python",
   "name": "python3"
  },
  "language_info": {
   "codemirror_mode": {
    "name": "ipython",
    "version": 3
   },
   "file_extension": ".py",
   "mimetype": "text/x-python",
   "name": "python",
   "nbconvert_exporter": "python",
   "pygments_lexer": "ipython3",
   "version": "3.8.19"
  }
 },
 "nbformat": 4,
 "nbformat_minor": 5
}
